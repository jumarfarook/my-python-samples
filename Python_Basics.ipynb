{
  "nbformat": 4,
  "nbformat_minor": 0,
  "metadata": {
    "colab": {
      "name": "Python Basics.ipynb",
      "provenance": [],
      "authorship_tag": "ABX9TyNY/R4888ePY1g4V/B6SNjk",
      "include_colab_link": true
    },
    "kernelspec": {
      "name": "python3",
      "display_name": "Python 3"
    },
    "language_info": {
      "name": "python"
    }
  },
  "cells": [
    {
      "cell_type": "markdown",
      "metadata": {
        "id": "view-in-github",
        "colab_type": "text"
      },
      "source": [
        "<a href=\"https://colab.research.google.com/github/jumarfarook/my-python-samples/blob/main/Python_Basics.ipynb\" target=\"_parent\"><img src=\"https://colab.research.google.com/assets/colab-badge.svg\" alt=\"Open In Colab\"/></a>"
      ]
    },
    {
      "cell_type": "code",
      "execution_count": 23,
      "metadata": {
        "colab": {
          "base_uri": "https://localhost:8080/"
        },
        "id": "hM7LyQucou9Z",
        "outputId": "e3b7b8ae-cadf-4251-fd8e-35a8edce4acd"
      },
      "outputs": [
        {
          "output_type": "stream",
          "name": "stdout",
          "text": [
            "0\n"
          ]
        }
      ],
      "source": [
        "# Store input numbers\n",
        "a = [1,2,3]\n",
        "a[0]=0\n",
        "\n",
        "print (a[0])"
      ]
    },
    {
      "cell_type": "markdown",
      "source": [
        "This is my first python"
      ],
      "metadata": {
        "id": "tPzWAwf6pwiZ"
      }
    }
  ]
}